{
 "cells": [
  {
   "cell_type": "code",
   "execution_count": 1,
   "metadata": {},
   "outputs": [],
   "source": [
    "import sys\n",
    "from pathlib import Path\n",
    "\n",
    "main_path = Path('..').resolve()\n",
    "sys.path.append(str(main_path))\n",
    "\n",
    "from src.dataset import MetaStockDataset\n",
    "from src.utils import ARGProcessor\n",
    "import numpy as np"
   ]
  },
  {
   "cell_type": "code",
   "execution_count": 44,
   "metadata": {},
   "outputs": [],
   "source": [
    "setting_file = Path('.') / 'kdd.yml'\n",
    "\n",
    "meta_args = ARGProcessor(setting_file=setting_file)\n",
    "data_kwargs = meta_args.get_args(cls=MetaStockDataset)"
   ]
  },
  {
   "cell_type": "code",
   "execution_count": 45,
   "metadata": {},
   "outputs": [],
   "source": [
    "data_dir = data_kwargs['data_dir']\n",
    "dtype = data_kwargs['dtype']\n",
    "n_train_stock = data_kwargs['n_train_stock']"
   ]
  },
  {
   "cell_type": "code",
   "execution_count": 46,
   "metadata": {},
   "outputs": [],
   "source": [
    "data_dir = Path(data_dir).resolve()\n",
    "ds_info = {\n",
    "    # train: (Jan-01-2007 to Jan-01-2015)\n",
    "    # val: (Jan-01-2015 to Jan-01-2016)\n",
    "    # test: (Jan-01-2016 to Jan-01-2017)\n",
    "    'kdd17': {\n",
    "        'path': data_dir / 'kdd17/price_long_50',\n",
    "        'date': data_dir / 'kdd17/trading_dates.csv',\n",
    "        'train_date': '2015-01-01', \n",
    "        'val_date': '2016-01-01', \n",
    "        'test_date': '2017-01-01',\n",
    "    },\n",
    "    # train: (Jan-01-2014 to Aug-01-2015)\n",
    "    # vali: (Aug-01-2015 to Oct-01-2015)\n",
    "    # test: (Oct-01-2015 to Jan-01-2016)\n",
    "    'acl18': {\n",
    "        'path': data_dir / 'stocknet-dataset/price/raw',\n",
    "        'date': data_dir / 'stocknet-dataset/price/trading_dates.csv',\n",
    "        'train_date': '2015-08-01', \n",
    "        'val_date': '2015-10-01', \n",
    "        'test_date': '2016-01-01',\n",
    "    }\n",
    "}\n",
    "ds_config = ds_info[dtype]\n",
    "\n",
    "meta_type = 'train'\n",
    "window_sizes = [5] # [5, 10, 15, 20]\n",
    "\n",
    "# get data\n",
    "data = {}\n",
    "candidates = {}\n",
    "ps = list((data_dir / ds_config['path']).glob('*.csv'))\n",
    "# iterator = ps[:n_train_stock] if (meta_type == 'train') or (meta_type == 'test1') else ps[n_train_stock:]\n"
   ]
  },
  {
   "cell_type": "code",
   "execution_count": 47,
   "metadata": {},
   "outputs": [
    {
     "name": "stdout",
     "output_type": "stream",
     "text": [
      "50\n"
     ]
    }
   ],
   "source": [
    "n_stocks = len(ps)\n",
    "print(n_stocks)"
   ]
  },
  {
   "cell_type": "code",
   "execution_count": 48,
   "metadata": {},
   "outputs": [],
   "source": [
    "seeds = [3, 7, 11, 69, 81]\n",
    "all_selected = []\n",
    "all_not_selected = []\n",
    "for s in seeds:\n",
    "    np.random.seed(s)\n",
    "    selected = np.random.choice(ps, size=int(n_stocks*0.8), replace=False)\n",
    "    not_selected = np.array(ps)[~np.isin(ps, selected)]\n",
    "    all_selected.append([s.name.strip('.csv') for s in selected])\n",
    "    all_not_selected.append([s.name.strip('.csv') for s in not_selected])"
   ]
  },
  {
   "cell_type": "code",
   "execution_count": 49,
   "metadata": {},
   "outputs": [],
   "source": [
    "import json\n",
    "\n",
    "d = {}\n",
    "\n",
    "for i, s in enumerate(seeds):\n",
    "    d[i] = {\n",
    "        'seed': s, 'known': all_selected[i], 'unknown': all_not_selected[i]\n",
    "    }\n",
    "with Path('stock_universe.json').open('w', encoding='utf-8') as file:\n",
    "    json.dump(d, file)"
   ]
  },
  {
   "cell_type": "code",
   "execution_count": null,
   "metadata": {},
   "outputs": [],
   "source": []
  }
 ],
 "metadata": {
  "kernelspec": {
   "display_name": "Python 3.10.4 ('SMILE-3RbiCpML')",
   "language": "python",
   "name": "python3"
  },
  "language_info": {
   "codemirror_mode": {
    "name": "ipython",
    "version": 3
   },
   "file_extension": ".py",
   "mimetype": "text/x-python",
   "name": "python",
   "nbconvert_exporter": "python",
   "pygments_lexer": "ipython3",
   "version": "3.10.4"
  },
  "orig_nbformat": 4,
  "vscode": {
   "interpreter": {
    "hash": "ee66b3967864d0acde953cfdc6a67f0a5a0d6d0589054c272a5ca1fe7c198375"
   }
  }
 },
 "nbformat": 4,
 "nbformat_minor": 2
}
