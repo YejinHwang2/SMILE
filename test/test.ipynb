{
 "cells": [
  {
   "cell_type": "code",
   "execution_count": 1,
   "metadata": {},
   "outputs": [],
   "source": [
    "import sys\n",
    "from pathlib import Path\n",
    "\n",
    "main_path = Path('..').resolve()\n",
    "sys.path.append(str(main_path))\n",
    "\n",
    "from src.dataset import MetaStockDataset\n",
    "from src.utils import ARGProcessor\n",
    "import numpy as np"
   ]
  },
  {
   "cell_type": "code",
   "execution_count": 2,
   "metadata": {},
   "outputs": [],
   "source": [
    "setting_file = Path('.') / 'kdd.yml'\n",
    "\n",
    "meta_args = ARGProcessor(setting_file=setting_file)\n",
    "data_kwargs = meta_args.get_args(cls=MetaStockDataset)"
   ]
  },
  {
   "cell_type": "code",
   "execution_count": 3,
   "metadata": {},
   "outputs": [
    {
     "name": "stderr",
     "output_type": "stream",
     "text": [
      "Processing data and candidates for train: 100%|██████████| 40/40 [00:00<00:00, 42.27it/s]\n"
     ]
    }
   ],
   "source": [
    "meta_train = MetaStockDataset(meta_type='train', **data_kwargs)\n",
    "# meta_test1 = MetaStockDataset(meta_type='test1', **data_kwargs)\n",
    "# meta_test2 = MetaStockDataset(meta_type='test2', **data_kwargs)\n",
    "# meta_test3 = MetaStockDataset(meta_type='test3', **data_kwargs)"
   ]
  },
  {
   "cell_type": "code",
   "execution_count": 4,
   "metadata": {},
   "outputs": [
    {
     "name": "stdout",
     "output_type": "stream",
     "text": [
      "AMZN [ 205 1166 1560   97  625]\n",
      "BA [1586 1691  352  862 1716]\n",
      "BAC [682 374 220 803 376]\n",
      "BHP [1346  350 1416  303 1716]\n",
      "BRK-B [1433  674 1958  801 1875]\n",
      "CHL [ 464 1376  431  195  758]\n",
      "CMCSA [ 202 1292  804 1658 1829]\n",
      "CVX [ 753  754 1345 1302  820]\n",
      "DCM [1459  286  968  487  666]\n",
      "DIS [1225  130  322  151  894]\n",
      "DOW [  49 1855  783 1502 1163]\n",
      "DUK [131 714 641 911 292]\n",
      "GE [1782  512 1004 1894  700]\n",
      "GOOGL [1299 1243 1225 1419  208]\n",
      "HD [ 757 1869  132 1211 1910]\n",
      "JNJ [ 555  237 1487  667   82]\n",
      "JPM [ 280 1151 1070  663 1516]\n",
      "KO [ 440  790   96 1977 1142]\n",
      "MA [ 298 1659 1013  590  475]\n",
      "MMM [1929   22 1223 1975  285]\n",
      "MO [ 533   26  227 1053   63]\n",
      "MRK [1336 1469  750 1101 1317]\n",
      "MSFT [ 470  597  564  659 1967]\n",
      "NGG [1429  383  976  634  410]\n",
      "NTT [ 211  748 1520  731  981]\n",
      "NVS [1949 1553  530  424  529]\n",
      "PG [ 232  376 1278  563  884]\n",
      "PTR [1624  666  824  982  623]\n",
      "RIO [ 961  545 1554 1539 1082]\n",
      "SO [1278  832 1789  688 1843]\n",
      "SPY [1531 1129 1200  419 1740]\n",
      "T [1928  967  354 1374  376]\n",
      "TM [1019 1398 1468 1159 1885]\n",
      "TOT [1958 1333 1271 1146 1407]\n",
      "UNH [1489  630 1486  590 1964]\n",
      "UPS [1741  833  713 1869 1486]\n",
      "VALE [ 377  980 1785 1111  737]\n",
      "WFC [1451 1781  456  582 1844]\n",
      "WMT [ 201 1505 1558 1125  976]\n",
      "XOM [ 551 1684 1177  525  574]\n"
     ]
    },
    {
     "name": "stderr",
     "output_type": "stream",
     "text": [
      "C:\\Users\\simon\\Desktop\\Codes\\SMILE\\src\\dataset.py:282: VisibleDeprecationWarning: Creating an ndarray from ragged nested sequences (which is a list-or-tuple of lists-or-tuples-or ndarrays with different lengths or shapes) is deprecated. If you meant to do this, you must specify 'dtype=object' when creating the ndarray.\n",
      "  support = np.array(support)\n",
      "C:\\Users\\simon\\Desktop\\Codes\\SMILE\\src\\dataset.py:283: VisibleDeprecationWarning: Creating an ndarray from ragged nested sequences (which is a list-or-tuple of lists-or-tuples-or ndarrays with different lengths or shapes) is deprecated. If you meant to do this, you must specify 'dtype=object' when creating the ndarray.\n",
      "  support_labels = np.array(support_labels)\n"
     ]
    }
   ],
   "source": [
    "tasks = meta_train.generate_tasks()"
   ]
  },
  {
   "cell_type": "code",
   "execution_count": 7,
   "metadata": {},
   "outputs": [
    {
     "data": {
      "text/plain": [
       "'MO'"
      ]
     },
     "execution_count": 7,
     "metadata": {},
     "output_type": "execute_result"
    }
   ],
   "source": [
    "meta_train.symbols[20]"
   ]
  },
  {
   "cell_type": "code",
   "execution_count": 5,
   "metadata": {},
   "outputs": [
    {
     "name": "stdout",
     "output_type": "stream",
     "text": [
      "(5, 4, 5, 11)\n",
      "(5, 4, 5, 11)\n",
      "(5, 4, 5, 11)\n",
      "(5, 4, 5, 11)\n",
      "(5, 4, 5, 11)\n",
      "(5, 4, 5, 11)\n",
      "(5, 4, 5, 11)\n",
      "(5, 4, 5, 11)\n",
      "(5, 4, 5, 11)\n",
      "(5, 4, 5, 11)\n",
      "(5, 4, 5, 11)\n",
      "(5, 4, 5, 11)\n",
      "(5, 4, 5, 11)\n",
      "(5, 4, 5, 11)\n",
      "(5, 4, 5, 11)\n",
      "(5, 4, 5, 11)\n",
      "(5, 4, 5, 11)\n",
      "(5, 4, 5, 11)\n",
      "(5, 4, 5, 11)\n",
      "(5,)\n",
      "(5, 4, 5, 11)\n",
      "(5, 4, 5, 11)\n",
      "(5, 4, 5, 11)\n",
      "(5, 4, 5, 11)\n",
      "(5, 4, 5, 11)\n",
      "(5, 4, 5, 11)\n",
      "(5, 4, 5, 11)\n",
      "(5, 4, 5, 11)\n",
      "(5, 4, 5, 11)\n",
      "(5, 4, 5, 11)\n",
      "(5, 4, 5, 11)\n",
      "(5, 4, 5, 11)\n",
      "(5, 4, 5, 11)\n",
      "(5, 4, 5, 11)\n",
      "(5, 4, 5, 11)\n",
      "(5, 4, 5, 11)\n",
      "(5, 4, 5, 11)\n",
      "(5, 4, 5, 11)\n",
      "(5, 4, 5, 11)\n",
      "(5, 4, 5, 11)\n"
     ]
    }
   ],
   "source": [
    "for s in tasks[5]['support']:\n",
    "    print(s.shape)"
   ]
  },
  {
   "cell_type": "code",
   "execution_count": 5,
   "metadata": {},
   "outputs": [
    {
     "data": {
      "text/plain": [
       "(40, 5, 4)"
      ]
     },
     "execution_count": 5,
     "metadata": {},
     "output_type": "execute_result"
    }
   ],
   "source": [
    "np.array(tasks[5]['support_labels']).shape"
   ]
  },
  {
   "cell_type": "code",
   "execution_count": 13,
   "metadata": {},
   "outputs": [
    {
     "data": {
      "text/plain": [
       "dict_keys(['support', 'support_labels', 'query', 'query_labels'])"
      ]
     },
     "execution_count": 13,
     "metadata": {},
     "output_type": "execute_result"
    }
   ],
   "source": [
    "tasks[5].keys()"
   ]
  },
  {
   "cell_type": "code",
   "execution_count": 14,
   "metadata": {},
   "outputs": [],
   "source": [
    "for data in meta_train.iter_task(tasks[5]):\n",
    "    break"
   ]
  },
  {
   "cell_type": "code",
   "execution_count": null,
   "metadata": {},
   "outputs": [],
   "source": []
  },
  {
   "cell_type": "code",
   "execution_count": 16,
   "metadata": {},
   "outputs": [
    {
     "data": {
      "text/plain": [
       "array([[1],\n",
       "       [1],\n",
       "       [0],\n",
       "       [0],\n",
       "       [0]], dtype=uint8)"
      ]
     },
     "execution_count": 16,
     "metadata": {},
     "output_type": "execute_result"
    }
   ],
   "source": [
    "data['query_labels']"
   ]
  },
  {
   "cell_type": "code",
   "execution_count": 11,
   "metadata": {},
   "outputs": [],
   "source": [
    "import json \n",
    "ps = list((meta_train.data_dir / 'kdd17/price_long_50').glob('*.csv'))\n",
    "with (Path('../data').resolve() / 'kdd17/stock_universe.json').open('r') as file:\n",
    "    universe_dict = json.load(file)\n",
    "\n",
    "universe_key = 'known'\n",
    "universe = universe_dict['0'][universe_key]\n",
    "iterator = [p for p in ps if p.name.strip('.csv') in universe]"
   ]
  },
  {
   "cell_type": "code",
   "execution_count": 55,
   "metadata": {},
   "outputs": [],
   "source": [
    "p = iterator[29]\n",
    "stock_symbol = p.name.rstrip('.csv')\n",
    "df_single = meta_train.load_single_stock(p)\n",
    "df_single = df_single.loc[df_single[\"date\"].between(\"2014-01-01\", '2015-01-01')].reset_index(drop=True)"
   ]
  },
  {
   "cell_type": "code",
   "execution_count": 56,
   "metadata": {},
   "outputs": [],
   "source": [
    "symbol = p.name.strip('.csv') # 'AMZN'\n",
    "window_size = 5\n",
    "n_support = 4\n",
    "df_stock = meta_train.data[symbol]\n",
    "labels_indices = meta_train.candidates[symbol]\n",
    "labels_candidates = labels_indices[labels_indices >= window_size]\n",
    "idx = meta_train.get_possible_idx(df_stock, labels_candidates)\n",
    "labels_candidates = labels_candidates[idx:]"
   ]
  },
  {
   "cell_type": "code",
   "execution_count": 57,
   "metadata": {},
   "outputs": [
    {
     "data": {
      "text/plain": [
       "array([  15,   16,   17, ..., 1982, 1983, 1984], dtype=int64)"
      ]
     },
     "execution_count": 57,
     "metadata": {},
     "output_type": "execute_result"
    }
   ],
   "source": [
    "labels_candidates"
   ]
  },
  {
   "cell_type": "code",
   "execution_count": 60,
   "metadata": {},
   "outputs": [
    {
     "data": {
      "text/html": [
       "<div>\n",
       "<style scoped>\n",
       "    .dataframe tbody tr th:only-of-type {\n",
       "        vertical-align: middle;\n",
       "    }\n",
       "\n",
       "    .dataframe tbody tr th {\n",
       "        vertical-align: top;\n",
       "    }\n",
       "\n",
       "    .dataframe thead th {\n",
       "        text-align: right;\n",
       "    }\n",
       "</style>\n",
       "<table border=\"1\" class=\"dataframe\">\n",
       "  <thead>\n",
       "    <tr style=\"text-align: right;\">\n",
       "      <th></th>\n",
       "      <th>date</th>\n",
       "      <th>label</th>\n",
       "    </tr>\n",
       "  </thead>\n",
       "  <tbody>\n",
       "    <tr>\n",
       "      <th>0</th>\n",
       "      <td>2007-02-14</td>\n",
       "      <td>2</td>\n",
       "    </tr>\n",
       "    <tr>\n",
       "      <th>1</th>\n",
       "      <td>2007-02-15</td>\n",
       "      <td>0</td>\n",
       "    </tr>\n",
       "    <tr>\n",
       "      <th>2</th>\n",
       "      <td>2007-02-16</td>\n",
       "      <td>2</td>\n",
       "    </tr>\n",
       "    <tr>\n",
       "      <th>3</th>\n",
       "      <td>2007-02-20</td>\n",
       "      <td>2</td>\n",
       "    </tr>\n",
       "    <tr>\n",
       "      <th>4</th>\n",
       "      <td>2007-02-21</td>\n",
       "      <td>0</td>\n",
       "    </tr>\n",
       "    <tr>\n",
       "      <th>5</th>\n",
       "      <td>2007-02-22</td>\n",
       "      <td>2</td>\n",
       "    </tr>\n",
       "    <tr>\n",
       "      <th>6</th>\n",
       "      <td>2007-02-23</td>\n",
       "      <td>2</td>\n",
       "    </tr>\n",
       "    <tr>\n",
       "      <th>7</th>\n",
       "      <td>2007-02-26</td>\n",
       "      <td>2</td>\n",
       "    </tr>\n",
       "    <tr>\n",
       "      <th>8</th>\n",
       "      <td>2007-02-27</td>\n",
       "      <td>0</td>\n",
       "    </tr>\n",
       "    <tr>\n",
       "      <th>9</th>\n",
       "      <td>2007-02-28</td>\n",
       "      <td>1</td>\n",
       "    </tr>\n",
       "    <tr>\n",
       "      <th>10</th>\n",
       "      <td>2007-03-01</td>\n",
       "      <td>2</td>\n",
       "    </tr>\n",
       "    <tr>\n",
       "      <th>11</th>\n",
       "      <td>2007-03-02</td>\n",
       "      <td>0</td>\n",
       "    </tr>\n",
       "    <tr>\n",
       "      <th>12</th>\n",
       "      <td>2007-03-05</td>\n",
       "      <td>0</td>\n",
       "    </tr>\n",
       "    <tr>\n",
       "      <th>13</th>\n",
       "      <td>2007-03-06</td>\n",
       "      <td>1</td>\n",
       "    </tr>\n",
       "    <tr>\n",
       "      <th>14</th>\n",
       "      <td>2007-03-07</td>\n",
       "      <td>2</td>\n",
       "    </tr>\n",
       "    <tr>\n",
       "      <th>15</th>\n",
       "      <td>2007-03-08</td>\n",
       "      <td>1</td>\n",
       "    </tr>\n",
       "  </tbody>\n",
       "</table>\n",
       "</div>"
      ],
      "text/plain": [
       "         date  label\n",
       "0  2007-02-14      2\n",
       "1  2007-02-15      0\n",
       "2  2007-02-16      2\n",
       "3  2007-02-20      2\n",
       "4  2007-02-21      0\n",
       "5  2007-02-22      2\n",
       "6  2007-02-23      2\n",
       "7  2007-02-26      2\n",
       "8  2007-02-27      0\n",
       "9  2007-02-28      1\n",
       "10 2007-03-01      2\n",
       "11 2007-03-02      0\n",
       "12 2007-03-05      0\n",
       "13 2007-03-06      1\n",
       "14 2007-03-07      2\n",
       "15 2007-03-08      1"
      ]
     },
     "execution_count": 60,
     "metadata": {},
     "output_type": "execute_result"
    }
   ],
   "source": [
    "df_stock.loc[:15, ['date', 'label']]"
   ]
  },
  {
   "cell_type": "code",
   "execution_count": 61,
   "metadata": {},
   "outputs": [],
   "source": [
    "y_q = np.array([labels_candidates[0]])\n",
    "y_qs = y_q - window_size\n",
    "query, query_labels = meta_train.generate_data(df_stock, y_start=y_qs, y_end=y_q)"
   ]
  },
  {
   "cell_type": "code",
   "execution_count": 62,
   "metadata": {},
   "outputs": [
    {
     "data": {
      "text/plain": [
       "array([10], dtype=int64)"
      ]
     },
     "execution_count": 62,
     "metadata": {},
     "output_type": "execute_result"
    }
   ],
   "source": [
    "y_qs"
   ]
  },
  {
   "cell_type": "code",
   "execution_count": 63,
   "metadata": {},
   "outputs": [
    {
     "data": {
      "text/plain": [
       "array([[[-0.5848,  0.6405, -1.9772,  0.3073,  0.3073,  0.1392,  0.7574,\n",
       "          0.9728,  1.0874,  0.943 ,  0.9697],\n",
       "        [ 1.1299,  1.5819, -0.113 , -1.4202, -1.4202,  1.1243,  1.9407,\n",
       "          2.2467,  2.4124,  2.2888,  2.3452],\n",
       "        [ 0.8847,  1.0845, -0.1142, -1.017 , -1.017 ,  1.387 ,  2.5942,\n",
       "          3.0403,  3.2848,  3.2297,  3.273 ],\n",
       "        [-0.5072,  0.3099, -1.0989,  1.2842,  1.2842,  0.1071,  0.9862,\n",
       "          1.5892,  1.8456,  1.8785,  1.8921],\n",
       "        [ 0.    ,  0.6787, -0.2828, -0.3663, -0.3663,  0.2262,  1.0775,\n",
       "          1.744 ,  2.0475,  2.1993,  2.1752]]])"
      ]
     },
     "execution_count": 63,
     "metadata": {},
     "output_type": "execute_result"
    }
   ],
   "source": [
    "query.round(4)"
   ]
  },
  {
   "cell_type": "code",
   "execution_count": 64,
   "metadata": {},
   "outputs": [
    {
     "data": {
      "text/html": [
       "<div>\n",
       "<style scoped>\n",
       "    .dataframe tbody tr th:only-of-type {\n",
       "        vertical-align: middle;\n",
       "    }\n",
       "\n",
       "    .dataframe tbody tr th {\n",
       "        vertical-align: top;\n",
       "    }\n",
       "\n",
       "    .dataframe thead th {\n",
       "        text-align: right;\n",
       "    }\n",
       "</style>\n",
       "<table border=\"1\" class=\"dataframe\">\n",
       "  <thead>\n",
       "    <tr style=\"text-align: right;\">\n",
       "      <th></th>\n",
       "      <th>date</th>\n",
       "      <th>open</th>\n",
       "      <th>high</th>\n",
       "      <th>low</th>\n",
       "      <th>close</th>\n",
       "      <th>adj_close</th>\n",
       "      <th>zd5</th>\n",
       "      <th>zd10</th>\n",
       "      <th>zd15</th>\n",
       "      <th>zd20</th>\n",
       "      <th>zd25</th>\n",
       "      <th>zd30</th>\n",
       "      <th>label</th>\n",
       "    </tr>\n",
       "  </thead>\n",
       "  <tbody>\n",
       "    <tr>\n",
       "      <th>10</th>\n",
       "      <td>2007-03-01</td>\n",
       "      <td>-0.584793</td>\n",
       "      <td>0.640487</td>\n",
       "      <td>-1.977162</td>\n",
       "      <td>0.307265</td>\n",
       "      <td>0.307266</td>\n",
       "      <td>0.139237</td>\n",
       "      <td>0.757449</td>\n",
       "      <td>0.972802</td>\n",
       "      <td>1.087442</td>\n",
       "      <td>0.942961</td>\n",
       "      <td>0.969704</td>\n",
       "      <td>2</td>\n",
       "    </tr>\n",
       "    <tr>\n",
       "      <th>11</th>\n",
       "      <td>2007-03-02</td>\n",
       "      <td>1.129935</td>\n",
       "      <td>1.581912</td>\n",
       "      <td>-0.112997</td>\n",
       "      <td>-1.420212</td>\n",
       "      <td>-1.420211</td>\n",
       "      <td>1.124289</td>\n",
       "      <td>1.940672</td>\n",
       "      <td>2.246698</td>\n",
       "      <td>2.412423</td>\n",
       "      <td>2.288781</td>\n",
       "      <td>2.345161</td>\n",
       "      <td>0</td>\n",
       "    </tr>\n",
       "    <tr>\n",
       "      <th>12</th>\n",
       "      <td>2007-03-05</td>\n",
       "      <td>0.884695</td>\n",
       "      <td>1.084466</td>\n",
       "      <td>-0.114158</td>\n",
       "      <td>-1.016952</td>\n",
       "      <td>-1.016952</td>\n",
       "      <td>1.386984</td>\n",
       "      <td>2.594176</td>\n",
       "      <td>3.040332</td>\n",
       "      <td>3.284815</td>\n",
       "      <td>3.229709</td>\n",
       "      <td>3.273000</td>\n",
       "      <td>0</td>\n",
       "    </tr>\n",
       "    <tr>\n",
       "      <th>13</th>\n",
       "      <td>2007-03-06</td>\n",
       "      <td>-0.507188</td>\n",
       "      <td>0.309935</td>\n",
       "      <td>-1.098912</td>\n",
       "      <td>1.284249</td>\n",
       "      <td>1.284248</td>\n",
       "      <td>0.107070</td>\n",
       "      <td>0.986189</td>\n",
       "      <td>1.589176</td>\n",
       "      <td>1.845586</td>\n",
       "      <td>1.878530</td>\n",
       "      <td>1.892075</td>\n",
       "      <td>1</td>\n",
       "    </tr>\n",
       "    <tr>\n",
       "      <th>14</th>\n",
       "      <td>2007-03-07</td>\n",
       "      <td>0.000000</td>\n",
       "      <td>0.678725</td>\n",
       "      <td>-0.282814</td>\n",
       "      <td>-0.366303</td>\n",
       "      <td>-0.366304</td>\n",
       "      <td>0.226246</td>\n",
       "      <td>1.077489</td>\n",
       "      <td>1.743966</td>\n",
       "      <td>2.047510</td>\n",
       "      <td>2.199321</td>\n",
       "      <td>2.175243</td>\n",
       "      <td>2</td>\n",
       "    </tr>\n",
       "  </tbody>\n",
       "</table>\n",
       "</div>"
      ],
      "text/plain": [
       "         date      open      high       low     close  adj_close       zd5  \\\n",
       "10 2007-03-01 -0.584793  0.640487 -1.977162  0.307265   0.307266  0.139237   \n",
       "11 2007-03-02  1.129935  1.581912 -0.112997 -1.420212  -1.420211  1.124289   \n",
       "12 2007-03-05  0.884695  1.084466 -0.114158 -1.016952  -1.016952  1.386984   \n",
       "13 2007-03-06 -0.507188  0.309935 -1.098912  1.284249   1.284248  0.107070   \n",
       "14 2007-03-07  0.000000  0.678725 -0.282814 -0.366303  -0.366304  0.226246   \n",
       "\n",
       "        zd10      zd15      zd20      zd25      zd30  label  \n",
       "10  0.757449  0.972802  1.087442  0.942961  0.969704      2  \n",
       "11  1.940672  2.246698  2.412423  2.288781  2.345161      0  \n",
       "12  2.594176  3.040332  3.284815  3.229709  3.273000      0  \n",
       "13  0.986189  1.589176  1.845586  1.878530  1.892075      1  \n",
       "14  1.077489  1.743966  2.047510  2.199321  2.175243      2  "
      ]
     },
     "execution_count": 64,
     "metadata": {},
     "output_type": "execute_result"
    }
   ],
   "source": [
    "df_stock.loc[10:14]"
   ]
  },
  {
   "cell_type": "code",
   "execution_count": 26,
   "metadata": {},
   "outputs": [
    {
     "data": {
      "text/html": [
       "<div>\n",
       "<style scoped>\n",
       "    .dataframe tbody tr th:only-of-type {\n",
       "        vertical-align: middle;\n",
       "    }\n",
       "\n",
       "    .dataframe tbody tr th {\n",
       "        vertical-align: top;\n",
       "    }\n",
       "\n",
       "    .dataframe thead th {\n",
       "        text-align: right;\n",
       "    }\n",
       "</style>\n",
       "<table border=\"1\" class=\"dataframe\">\n",
       "  <thead>\n",
       "    <tr style=\"text-align: right;\">\n",
       "      <th></th>\n",
       "      <th>date</th>\n",
       "      <th>label</th>\n",
       "    </tr>\n",
       "  </thead>\n",
       "  <tbody>\n",
       "    <tr>\n",
       "      <th>0</th>\n",
       "      <td>2007-02-14</td>\n",
       "      <td>2</td>\n",
       "    </tr>\n",
       "    <tr>\n",
       "      <th>1</th>\n",
       "      <td>2007-02-15</td>\n",
       "      <td>0</td>\n",
       "    </tr>\n",
       "    <tr>\n",
       "      <th>2</th>\n",
       "      <td>2007-02-16</td>\n",
       "      <td>1</td>\n",
       "    </tr>\n",
       "    <tr>\n",
       "      <th>3</th>\n",
       "      <td>2007-02-20</td>\n",
       "      <td>0</td>\n",
       "    </tr>\n",
       "    <tr>\n",
       "      <th>4</th>\n",
       "      <td>2007-02-21</td>\n",
       "      <td>2</td>\n",
       "    </tr>\n",
       "    <tr>\n",
       "      <th>5</th>\n",
       "      <td>2007-02-22</td>\n",
       "      <td>2</td>\n",
       "    </tr>\n",
       "    <tr>\n",
       "      <th>6</th>\n",
       "      <td>2007-02-23</td>\n",
       "      <td>0</td>\n",
       "    </tr>\n",
       "  </tbody>\n",
       "</table>\n",
       "</div>"
      ],
      "text/plain": [
       "        date  label\n",
       "0 2007-02-14      2\n",
       "1 2007-02-15      0\n",
       "2 2007-02-16      1\n",
       "3 2007-02-20      0\n",
       "4 2007-02-21      2\n",
       "5 2007-02-22      2\n",
       "6 2007-02-23      0"
      ]
     },
     "execution_count": 26,
     "metadata": {},
     "output_type": "execute_result"
    }
   ],
   "source": [
    "df_stock.loc[:6, ['date', 'label']]"
   ]
  },
  {
   "cell_type": "code",
   "execution_count": 25,
   "metadata": {},
   "outputs": [
    {
     "data": {
      "text/plain": [
       "array([   6,    7,    8, ..., 1982, 1983, 1984], dtype=int64)"
      ]
     },
     "execution_count": 25,
     "metadata": {},
     "output_type": "execute_result"
    }
   ],
   "source": [
    "labels_candidates"
   ]
  },
  {
   "cell_type": "code",
   "execution_count": 38,
   "metadata": {},
   "outputs": [],
   "source": [
    "def get_possible_idx(df_stock, labels_candidates):\n",
    "    i = 0\n",
    "    while i < len(labels_candidates):\n",
    "        rise, fall = get_rise_fall(df_stock, labels_candidates, idx=i)\n",
    "        if len(rise) + len(fall) == 4:\n",
    "            break\n",
    "        else:\n",
    "            i += 1\n",
    "    return i\n",
    "\n",
    "def get_rise_fall(df_stock, labels_candidates, idx):\n",
    "    df_check = df_stock.loc[labels_candidates[:idx], 'label'].sort_index(ascending=False)\n",
    "    rise = df_check.index[df_check == meta_train.labels_dict['rise']][:(n_support // 2)].to_numpy()\n",
    "    fall = df_check.index[df_check == meta_train.labels_dict['fall']][:(n_support // 2)].to_numpy()\n",
    "    return rise, fall"
   ]
  },
  {
   "cell_type": "code",
   "execution_count": 39,
   "metadata": {},
   "outputs": [],
   "source": [
    "# remove unpossible candidates\n",
    "idx = get_possible_idx(df_stock, labels_candidates)\n",
    "labels_candidates = labels_candidates[idx:]\n"
   ]
  },
  {
   "cell_type": "code",
   "execution_count": 41,
   "metadata": {},
   "outputs": [
    {
     "data": {
      "text/plain": [
       "array([[1277],\n",
       "       [ 806],\n",
       "       [ 407],\n",
       "       [1164],\n",
       "       [  66]], dtype=int64)"
      ]
     },
     "execution_count": 41,
     "metadata": {},
     "output_type": "execute_result"
    }
   ],
   "source": [
    "y_q"
   ]
  },
  {
   "cell_type": "code",
   "execution_count": 42,
   "metadata": {},
   "outputs": [],
   "source": [
    "y_q = np.array(np.random.choice(labels_candidates, size=(5,), replace=False))\n",
    "y_qs = y_q - window_size\n",
    "query, query_labels = meta_train.generate_data(df_stock, y_start=y_qs, y_end=y_q)\n",
    "support = []\n",
    "support_labels = []\n",
    "for q in y_q:\n",
    "    q_idx = np.arange(len(labels_candidates))[labels_candidates == q][0]\n",
    "    rise, fall = get_rise_fall(df_stock, labels_candidates, idx=q_idx)\n",
    "    y_s = np.concatenate([fall, rise])\n",
    "    y_ss = y_s - window_size\n",
    "    data_s, label_s = meta_train.generate_data(df_stock, y_start=y_ss, y_end=y_s)\n",
    "    data_s = np.array(data_s)\n",
    "    support.append(data_s)\n",
    "    support_labels.append(label_s)"
   ]
  },
  {
   "cell_type": "code",
   "execution_count": 45,
   "metadata": {},
   "outputs": [
    {
     "name": "stdout",
     "output_type": "stream",
     "text": [
      "[1]\n",
      "[1]\n",
      "[1]\n",
      "[1]\n",
      "[1]\n"
     ]
    }
   ],
   "source": [
    "for x in np.expand_dims(query_labels, 1):\n",
    "    print(x)"
   ]
  },
  {
   "cell_type": "code",
   "execution_count": 46,
   "metadata": {},
   "outputs": [
    {
     "data": {
      "text/plain": [
       "array([1], dtype=uint8)"
      ]
     },
     "execution_count": 46,
     "metadata": {},
     "output_type": "execute_result"
    }
   ],
   "source": [
    "x"
   ]
  },
  {
   "cell_type": "code",
   "execution_count": 136,
   "metadata": {},
   "outputs": [
    {
     "data": {
      "text/plain": [
       "(5, 4, 5, 11)"
      ]
     },
     "execution_count": 136,
     "metadata": {},
     "output_type": "execute_result"
    }
   ],
   "source": [
    "np.array(support).shape"
   ]
  },
  {
   "cell_type": "code",
   "execution_count": 116,
   "metadata": {},
   "outputs": [
    {
     "data": {
      "text/plain": [
       "[0, 1, 0, 1, 0]"
      ]
     },
     "execution_count": 116,
     "metadata": {},
     "output_type": "execute_result"
    }
   ],
   "source": [
    "query_labels"
   ]
  },
  {
   "cell_type": "code",
   "execution_count": 120,
   "metadata": {},
   "outputs": [],
   "source": [
    "q = y_q[0]\n",
    "q_idx = np.arange(len(labels_candidates))[labels_candidates == q][0]\n",
    "rise, fall = get_rise_fall(df_stock, labels_candidates, idx=q_idx)"
   ]
  },
  {
   "cell_type": "code",
   "execution_count": 124,
   "metadata": {},
   "outputs": [],
   "source": [
    "y_s = np.concatenate([fall, rise])\n",
    "y_ss = y_s - window_size"
   ]
  },
  {
   "cell_type": "code",
   "execution_count": 127,
   "metadata": {},
   "outputs": [],
   "source": [
    "support, support_labels = meta_train.generate_data(df_stock, y_start=y_ss, y_end=y_s)\n"
   ]
  },
  {
   "cell_type": "code",
   "execution_count": 9,
   "metadata": {},
   "outputs": [
    {
     "name": "stdout",
     "output_type": "stream",
     "text": [
      "241 241\n"
     ]
    }
   ],
   "source": [
    "symbol = 'AMZN'\n",
    "window_size = 5\n",
    "n_shot = 2\n",
    "df_stock = meta_train.data[symbol]\n",
    "labels_indices = meta_train.candidates[symbol]\n",
    "y_cand = labels_indices[labels_indices >= window_size]\n",
    "n_rise = 0\n",
    "n_fall = 0\n",
    "support= []\n",
    "support_sample = []\n",
    "query = []\n",
    "support_turn = True\n",
    "query_turn = False\n",
    "query_sample = []\n",
    "for idx in y_cand:\n",
    "\n",
    "    # ex. k = 2\n",
    "    if support_turn and  n_rise < n_shot or n_fall < n_shot:\n",
    "        if n_rise < 2 and df_stock['label'][idx] == 1:\n",
    "            n_rise +=1\n",
    "            support_sample.append(idx)\n",
    "        elif n_fall < 2 and df_stock['label'][idx] == 0:\n",
    "            n_fall +=1\n",
    "            support_sample.append(idx)\n",
    "        continue\n",
    "\n",
    "    if n_rise == n_shot and n_fall == n_shot:\n",
    "        support.append(support_sample)\n",
    "        support_sample = []\n",
    "        n_rise = 0\n",
    "        n_fall = 0\n",
    "        query_turn = True\n",
    "        support_turn = False \n",
    "\n",
    "    if query_turn:\n",
    "        query_sample.append(idx)\n",
    "        query.append(query_sample)\n",
    "        query_sample = []\n",
    "        query_turn = False\n",
    "        support_turn = True\n",
    "        continue\n",
    "support_idx_set = np.array(support)\n",
    "query_idx_set = np.array(query)\n",
    "print(len(support_idx_set), len(query_idx_set))"
   ]
  },
  {
   "cell_type": "code",
   "execution_count": 60,
   "metadata": {},
   "outputs": [
    {
     "data": {
      "text/plain": [
       "array([[  14],\n",
       "       [  20],\n",
       "       [  28],\n",
       "       [  52],\n",
       "       [  57],\n",
       "       [  63],\n",
       "       [  71],\n",
       "       [  77],\n",
       "       [  83],\n",
       "       [  89],\n",
       "       [  95],\n",
       "       [ 102],\n",
       "       [ 112],\n",
       "       [ 121],\n",
       "       [ 128],\n",
       "       [ 135],\n",
       "       [ 144],\n",
       "       [ 162],\n",
       "       [ 168],\n",
       "       [ 174],\n",
       "       [ 181],\n",
       "       [ 190],\n",
       "       [ 196],\n",
       "       [ 205],\n",
       "       [ 211],\n",
       "       [ 222],\n",
       "       [ 239],\n",
       "       [ 248],\n",
       "       [ 253],\n",
       "       [ 258],\n",
       "       [ 268],\n",
       "       [ 274],\n",
       "       [ 279],\n",
       "       [ 284],\n",
       "       [ 291],\n",
       "       [ 299],\n",
       "       [ 304],\n",
       "       [ 315],\n",
       "       [ 321],\n",
       "       [ 328],\n",
       "       [ 336],\n",
       "       [ 341],\n",
       "       [ 350],\n",
       "       [ 357],\n",
       "       [ 364],\n",
       "       [ 372],\n",
       "       [ 377],\n",
       "       [ 383],\n",
       "       [ 389],\n",
       "       [ 394],\n",
       "       [ 401],\n",
       "       [ 406],\n",
       "       [ 411],\n",
       "       [ 420],\n",
       "       [ 427],\n",
       "       [ 435],\n",
       "       [ 443],\n",
       "       [ 450],\n",
       "       [ 455],\n",
       "       [ 462],\n",
       "       [ 467],\n",
       "       [ 473],\n",
       "       [ 479],\n",
       "       [ 488],\n",
       "       [ 493],\n",
       "       [ 502],\n",
       "       [ 509],\n",
       "       [ 514],\n",
       "       [ 521],\n",
       "       [ 527],\n",
       "       [ 533],\n",
       "       [ 544],\n",
       "       [ 549],\n",
       "       [ 555],\n",
       "       [ 562],\n",
       "       [ 567],\n",
       "       [ 575],\n",
       "       [ 585],\n",
       "       [ 592],\n",
       "       [ 598],\n",
       "       [ 605],\n",
       "       [ 617],\n",
       "       [ 623],\n",
       "       [ 629],\n",
       "       [ 634],\n",
       "       [ 647],\n",
       "       [ 659],\n",
       "       [ 664],\n",
       "       [ 671],\n",
       "       [ 680],\n",
       "       [ 689],\n",
       "       [ 700],\n",
       "       [ 708],\n",
       "       [ 719],\n",
       "       [ 728],\n",
       "       [ 735],\n",
       "       [ 744],\n",
       "       [ 752],\n",
       "       [ 761],\n",
       "       [ 772],\n",
       "       [ 779],\n",
       "       [ 787],\n",
       "       [ 793],\n",
       "       [ 800],\n",
       "       [ 806],\n",
       "       [ 812],\n",
       "       [ 817],\n",
       "       [ 826],\n",
       "       [ 831],\n",
       "       [ 839],\n",
       "       [ 851],\n",
       "       [ 861],\n",
       "       [ 868],\n",
       "       [ 882],\n",
       "       [ 888],\n",
       "       [ 893],\n",
       "       [ 914],\n",
       "       [ 919],\n",
       "       [ 926],\n",
       "       [ 935],\n",
       "       [ 943],\n",
       "       [ 952],\n",
       "       [ 963],\n",
       "       [ 975],\n",
       "       [ 987],\n",
       "       [ 992],\n",
       "       [1000],\n",
       "       [1011],\n",
       "       [1021],\n",
       "       [1027],\n",
       "       [1035],\n",
       "       [1045],\n",
       "       [1055],\n",
       "       [1062],\n",
       "       [1071],\n",
       "       [1078],\n",
       "       [1085],\n",
       "       [1093],\n",
       "       [1100],\n",
       "       [1111],\n",
       "       [1116],\n",
       "       [1122],\n",
       "       [1131],\n",
       "       [1137],\n",
       "       [1144],\n",
       "       [1149],\n",
       "       [1154],\n",
       "       [1161],\n",
       "       [1167],\n",
       "       [1179],\n",
       "       [1185],\n",
       "       [1190],\n",
       "       [1198],\n",
       "       [1208],\n",
       "       [1214],\n",
       "       [1222],\n",
       "       [1227],\n",
       "       [1235],\n",
       "       [1244],\n",
       "       [1252],\n",
       "       [1262],\n",
       "       [1270],\n",
       "       [1279],\n",
       "       [1291],\n",
       "       [1301],\n",
       "       [1307],\n",
       "       [1318],\n",
       "       [1326],\n",
       "       [1331],\n",
       "       [1336],\n",
       "       [1346],\n",
       "       [1352],\n",
       "       [1365],\n",
       "       [1372],\n",
       "       [1377],\n",
       "       [1384],\n",
       "       [1396],\n",
       "       [1405],\n",
       "       [1414],\n",
       "       [1422],\n",
       "       [1432],\n",
       "       [1443],\n",
       "       [1453],\n",
       "       [1467],\n",
       "       [1474],\n",
       "       [1481],\n",
       "       [1492],\n",
       "       [1497],\n",
       "       [1505],\n",
       "       [1510],\n",
       "       [1521],\n",
       "       [1528],\n",
       "       [1539],\n",
       "       [1547],\n",
       "       [1554],\n",
       "       [1562],\n",
       "       [1567],\n",
       "       [1575],\n",
       "       [1585],\n",
       "       [1593],\n",
       "       [1598],\n",
       "       [1619],\n",
       "       [1624],\n",
       "       [1644],\n",
       "       [1650],\n",
       "       [1664],\n",
       "       [1671],\n",
       "       [1677],\n",
       "       [1684],\n",
       "       [1689],\n",
       "       [1698],\n",
       "       [1705],\n",
       "       [1718],\n",
       "       [1729],\n",
       "       [1737],\n",
       "       [1745],\n",
       "       [1753],\n",
       "       [1762],\n",
       "       [1769],\n",
       "       [1786],\n",
       "       [1796],\n",
       "       [1801],\n",
       "       [1810],\n",
       "       [1815],\n",
       "       [1822],\n",
       "       [1828],\n",
       "       [1839],\n",
       "       [1847],\n",
       "       [1852],\n",
       "       [1861],\n",
       "       [1869],\n",
       "       [1883],\n",
       "       [1900],\n",
       "       [1911],\n",
       "       [1921],\n",
       "       [1928],\n",
       "       [1935],\n",
       "       [1942],\n",
       "       [1949],\n",
       "       [1965],\n",
       "       [1977]], dtype=int64)"
      ]
     },
     "execution_count": 60,
     "metadata": {},
     "output_type": "execute_result"
    }
   ],
   "source": [
    "query_idx_set"
   ]
  },
  {
   "cell_type": "code",
   "execution_count": 6,
   "metadata": {},
   "outputs": [],
   "source": [
    "labels_indices = self.candidates[symbol]\n",
    "labels_candidates = labels_indices[labels_indices >= window_size]\n",
    "y_s = np.array(sorted(np.random.choice(labels_candidates, size=(self.n_sample,), replace=False)))\n",
    "y_ss = y_s-window_size\n",
    "support, support_labels = self.generate_data(df_stock, y_start=y_ss, y_end=y_s)\n",
    "\n",
    "# code for jumpped tags like [1(support), 0, 0, 1(query)]\n",
    "# y_q = labels_indices[np.arange(len(labels_indices))[np.isin(labels_indices, y_s)] + self.n_lag]\n",
    "y_q = y_s + self.n_lag\n",
    "y_qs = y_s - window_size if self.keep_support_history else y_q - window_size\n",
    "query, query_labels = self.generate_data(df_stock, y_start=y_qs, y_end=y_q)"
   ]
  }
 ],
 "metadata": {
  "kernelspec": {
   "display_name": "Python 3.10.4 ('SMILE-YJBuims-')",
   "language": "python",
   "name": "python3"
  },
  "language_info": {
   "codemirror_mode": {
    "name": "ipython",
    "version": 3
   },
   "file_extension": ".py",
   "mimetype": "text/x-python",
   "name": "python",
   "nbconvert_exporter": "python",
   "pygments_lexer": "ipython3",
   "version": "3.10.4"
  },
  "orig_nbformat": 4,
  "vscode": {
   "interpreter": {
    "hash": "20751be6a0cf8c615e71af54ada580fb04d2b8017a238485cee7184b2ef75c87"
   }
  }
 },
 "nbformat": 4,
 "nbformat_minor": 2
}
